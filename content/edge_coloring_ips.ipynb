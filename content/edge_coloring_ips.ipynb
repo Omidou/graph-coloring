{
 "cells": [
  {
   "cell_type": "markdown",
   "id": "a4061a2b",
   "metadata": {},
   "source": [
    "# Edge Coloring Course (I-PS Group)\n",
    "\n",
    "Welcome to this short lesson of graph theory, where we will explore a edge coloring theorem and its proof. <br>\n",
    "\n",
    "Graph coloring is a very important and interesting problem in many domains, for instance computer science (image segmentation, clustering, data mining, etc.). Edge coloring, specifically, can be applied for networking and scheduling, for instance it can be used to scheduled round-robin tournaments as we will see later.\n",
    "### Learning goals\n",
    "This course will introduce you to an edge coloring theorem and its proof. Here are the learning goals of this class:\n",
    "* Be able to divide a problem in independent cases\n",
    "* Apply some cases of the proof to prove the theorem for general cases, for instance for any kind of graphs (Vizing's theorem).\n",
    "* Recognize the situation in a real-world problem and apply the theorem to solve it\n",
    "\n",
    "## 1. Pretest - Prior knowledge check\n",
    "First, we will assess previous knowledge required for the full understanding of the following course."
   ]
  },
  {
   "cell_type": "code",
   "execution_count": null,
   "id": "ee66ca1a",
   "metadata": {},
   "outputs": [],
   "source": [
    "# Prior knowledge quizzes"
   ]
  },
  {
   "cell_type": "markdown",
   "id": "4d0700ac",
   "metadata": {},
   "source": [
    "Please, if not already done, do both prior knowledge check-up quizzes on [induction](https://go.epfl.ch/quiz-induction) and [bipartite graphs](https://www.cs411-moodle.com/mod/quiz/view.php?id=1075) on Moodle."
   ]
  },
  {
   "cell_type": "markdown",
   "id": "61622490",
   "metadata": {},
   "source": [
    "You can now follow the instructions.\n",
    "\n",
    "## 2. Instructions"
   ]
  },
  {
   "cell_type": "markdown",
   "id": "497a7f52",
   "metadata": {},
   "source": [
    "In this class, we will explore how to quickly find a way to color edges of different graphs with the minimum number of colors.\n",
    "<br>\n",
    "We will start with a few important definitions:\n",
    "* **Bipartite graph**: a bipartite graph is a graph whose vertices can be divided into two disjoint and independent sets $U$ and $V$, that is every edge connects a vertex in $U$ to at least one in $V$.\n",
    "<p><img src=\"bigraph.png\" alt=\"bigraph\"/><em left-margin=20px>Both graph are bipartite (and equivalent).</em></p>\n",
    "* **Edge coloring**: an edge coloring of a graph is an assignment of colors to the edges of the graph so that no two incident edges have the same color. We call the minimum number of colors required for a graph $G$ the **chromatic number** $\\mathcal{X}'(G)$.\n",
    "<p><img src=\"5_complete_graph.png\" alt=\"colored-graph\" width=\"250\"/><em margin=20px>In this case the chromatic number is 4.</em></p>\n",
    "\n",
    "<div style=\"padding:8px 0 8px 15px;background-color:#F3F3F3;\">\n",
    "    <span style=\"font-weight:bold;text-decoration:underline;\">Reminder</span><br/>   \n",
    "The <b>max-degree</b> $\\Delta(G)$ of a graph $G$ is the maximum number of edges that are incident to a single vertex.\n",
    "</div>"
   ]
  },
  {
   "cell_type": "markdown",
   "id": "0c88c7ab",
   "metadata": {},
   "source": [
    "### Theorem\n",
    "This a special case of Vizing's theorem: <br>\n",
    "<br>\n",
    "<div style=\"padding:8px 0 8px 15px;border-left:5px solid #B51F1F;background-color:#F3F3F3;\">\n",
    "    \n",
    "*Every bipartite graph may be edge colored using a number of colors that is the maximum degree of the graph.* <br> \n",
    "</div>\n",
    "\n",
    "### Proof\n",
    "The proof is separated in two cases. We will go through them step by step."
   ]
  },
  {
   "cell_type": "markdown",
   "id": "89127785",
   "metadata": {},
   "source": [
    "We are going to do a proof by induction on the number of edges.\n",
    "\n",
    "<div style=\"padding:8px 0 8px 15px;background-color:#F3F3F3;\">\n",
    "    <span style=\"font-weight:bold;text-decoration:underline;\">Observation 1</span><br/>   \n",
    "We can not color a graph with less color than the maximum degree of a graph, otherwise the vertex with max-degree will have at least two edges of the same color.\n",
    "</div>\n",
    "\n",
    "<div style=\"padding:8px 0 8px 15px;border-left:5px solid #B51F1F;background-color:#F3F3F3;\">\n",
    "    <span style=\"font-weight:bold;text-decoration:underline;\">Remark 1</span><br/>   \n",
    "By the above observation, it means that if we find a coloration of the graph with a number of colors that is the\n",
    "maximum degree of the graph, the theorem is proven.\n",
    "</div>\n",
    "\n",
    "For the **base case** with $m=1$ edge, we trivially see that there is a coloration with one color and that the maximal degree is also 1.\n",
    "<img src=\"base_case.png\" alt=\"base\" width=\"250\"/>"
   ]
  },
  {
   "cell_type": "markdown",
   "id": "752d2218",
   "metadata": {},
   "source": [
    "**Induction Hypothesis:** For every graph with at most $m-1$ edges, we have $\\mathcal{X}'(G)=\\Delta(G)$ <br> \n",
    "\n",
    "Now, we take a graph $G$ with $m-1$ edges. The goal is to make use the induction hypothesis: we are going to remove an edge of $G$, call it $xy$, and we call the resulting graph $G'$. Then we will observe what happens when we put $xy$ back in the graph."
   ]
  },
  {
   "cell_type": "code",
   "execution_count": null,
   "id": "c7e9b383",
   "metadata": {},
   "outputs": [],
   "source": [
    "# Quizz"
   ]
  },
  {
   "cell_type": "markdown",
   "id": "2adbda8a",
   "metadata": {},
   "source": [
    "**Case 1:** $\\Delta (G')=\\Delta(G)-1$ <br>\n",
    "By induction hypothesis, we can color $G'$ with $\\Delta(G)-1$ colors, hence after adding back the $xy$ edge, we can color it with a new color and $G$ is colored with $\\Delta(G') + 1=\\Delta(G)$ colors, we can conclude this case by **Remark 1**."
   ]
  },
  {
   "cell_type": "markdown",
   "id": "87fb63a0",
   "metadata": {},
   "source": [
    "**Case 2:** $\\Delta(G')=\\Delta(G)$ <br>"
   ]
  },
  {
   "cell_type": "markdown",
   "id": "80d14361",
   "metadata": {},
   "source": [
    "<div style=\"padding:8px 0 8px 15px;background-color:#F3F3F3;\">\n",
    "    <span style=\"font-weight:bold;text-decoration:underline;\">Observation 2</span><br/>   \n",
    "$x$ and $y$ have at most $\\Delta(G)-1$ edges connected to them, hence they both have one color not connected to them. Let's call these colors $\\alpha$ for $x$ and $\\beta$ for $y$. For notation simplicity, we will say that a vertex not connected to an edge colored with color $\\gamma$, $\\gamma$-free, i.e $x$ is $\\alpha$-free and $y$ is $\\beta$-free.\n",
    "</div>\n",
    "\n",
    "If $\\alpha=\\beta$, then we can color the edge $xy$ with $\\alpha$ and we have a coloring of $G$ with $\\Delta(G)$ color and by **Remark 1**, we are done. Therefore we will be interested in the opposite case."
   ]
  },
  {
   "cell_type": "markdown",
   "id": "a858645e",
   "metadata": {},
   "source": [
    "Assume $\\alpha\\ne\\beta$. We are going to consider a *maximal walk* from $x$ that alternate $\\alpha$ and $\\beta$ edge colors. This means that starting from $x$, we will go to the next vertex going through a $\\beta$ edge and then going through an $\\alpha$ edge until no edges of the correct color is available. What is the color of the last edge?\n",
    "<img src=\"maximal_walk.png\" alt=\"maxwalk\"/>"
   ]
  },
  {
   "cell_type": "code",
   "execution_count": null,
   "id": "057acfcc",
   "metadata": {},
   "outputs": [],
   "source": [
    "# Quizz"
   ]
  },
  {
   "cell_type": "markdown",
   "id": "4aeb560e",
   "metadata": {},
   "source": [
    "If $z\\ne y$, the last vertex $z$ is $\\alpha$ or $\\beta$-free, this means that if we flipped the coloring of $\\alpha$ and $\\beta$, we still have a valid coloring for $G'$ but with $x$ being $\\beta$-free similarly as y. Then we can put back the edge $xy$ colored with $\\beta$ and obtain a valid coloring for $G$ with $\\Delta(G)$ color and by **Remark 1**, we can conclude."
   ]
  },
  {
   "cell_type": "markdown",
   "id": "11984ab0",
   "metadata": {},
   "source": [
    "## 3. Problem-solving activity\n",
    "Complete the following quiz."
   ]
  },
  {
   "cell_type": "code",
   "execution_count": null,
   "id": "4bdbefce",
   "metadata": {},
   "outputs": [],
   "source": [
    "# Quiz TRUE/FALSE"
   ]
  },
  {
   "cell_type": "markdown",
   "id": "f61b7dd4",
   "metadata": {},
   "source": [
    "## 4. Assessment\n",
    "Complete the following exercises to check your understanding of the course."
   ]
  },
  {
   "cell_type": "code",
   "execution_count": null,
   "id": "2aa2e074",
   "metadata": {},
   "outputs": [],
   "source": [
    "# Tournament problem"
   ]
  },
  {
   "cell_type": "code",
   "execution_count": null,
   "id": "90c5e54e",
   "metadata": {},
   "outputs": [],
   "source": [
    "# Quizz"
   ]
  }
 ],
 "metadata": {
  "kernelspec": {
   "display_name": "Python 3",
   "language": "python",
   "name": "python3"
  },
  "language_info": {
   "codemirror_mode": {
    "name": "ipython",
    "version": 3
   },
   "file_extension": ".py",
   "mimetype": "text/x-python",
   "name": "python",
   "nbconvert_exporter": "python",
   "pygments_lexer": "ipython3",
   "version": "3.8.8"
  }
 },
 "nbformat": 4,
 "nbformat_minor": 5
}
